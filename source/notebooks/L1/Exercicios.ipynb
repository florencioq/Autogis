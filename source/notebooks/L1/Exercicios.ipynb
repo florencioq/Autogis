{
 "cells": [
  {
   "cell_type": "code",
   "execution_count": 80,
   "id": "13343c2d",
   "metadata": {},
   "outputs": [],
   "source": [
    "from shapely.geometry import Point, LineString, Polygon\n",
    "import random"
   ]
  },
  {
   "cell_type": "code",
   "execution_count": 81,
   "id": "9d57d09e",
   "metadata": {},
   "outputs": [],
   "source": [
    "points = [Point(0,0) for i in range(4)]\n",
    "for i in range(4):\n",
    "    points[i] = Point(random.randint(1,9),random.randint(1,9))"
   ]
  },
  {
   "cell_type": "code",
   "execution_count": 82,
   "id": "0c1000ae",
   "metadata": {},
   "outputs": [
    {
     "name": "stdout",
     "output_type": "stream",
     "text": [
      "<class 'shapely.geometry.point.Point'>\n",
      "POINT (5 8)\n",
      "[(5.0, 8.0)]\n",
      "<class 'shapely.geometry.point.Point'>\n",
      "POINT (2 4)\n",
      "[(2.0, 4.0)]\n",
      "<class 'shapely.geometry.point.Point'>\n",
      "POINT (6 2)\n",
      "[(6.0, 2.0)]\n",
      "<class 'shapely.geometry.point.Point'>\n",
      "POINT (9 2)\n",
      "[(9.0, 2.0)]\n"
     ]
    }
   ],
   "source": [
    "for point in points:\n",
    "    print(type(point))\n",
    "    print(point)\n",
    "    print(list(point.coords))"
   ]
  },
  {
   "cell_type": "code",
   "execution_count": 83,
   "id": "2693e557",
   "metadata": {},
   "outputs": [
    {
     "name": "stdout",
     "output_type": "stream",
     "text": [
      "5.0\n"
     ]
    }
   ],
   "source": [
    "dist = points[0].distance(points[1])\n",
    "print(dist)"
   ]
  },
  {
   "cell_type": "code",
   "execution_count": 84,
   "id": "6e6b1fd9",
   "metadata": {},
   "outputs": [],
   "source": [
    "linestring = LineString(points)"
   ]
  },
  {
   "cell_type": "code",
   "execution_count": 85,
   "id": "0010c386",
   "metadata": {},
   "outputs": [
    {
     "data": {
      "image/svg+xml": [
       "<svg xmlns=\"http://www.w3.org/2000/svg\" xmlns:xlink=\"http://www.w3.org/1999/xlink\" width=\"100.0\" height=\"100.0\" viewBox=\"1.72 1.72 7.56 6.56\" preserveAspectRatio=\"xMinYMin meet\"><g transform=\"matrix(1,0,0,-1,0,10.0)\"><polyline fill=\"none\" stroke=\"#66cc99\" stroke-width=\"0.1512\" points=\"5.0,8.0 2.0,4.0 6.0,2.0 9.0,2.0\" opacity=\"0.8\" /></g></svg>"
      ],
      "text/plain": [
       "<shapely.geometry.linestring.LineString at 0x140290fd0>"
      ]
     },
     "execution_count": 85,
     "metadata": {},
     "output_type": "execute_result"
    }
   ],
   "source": [
    "linestring"
   ]
  },
  {
   "cell_type": "code",
   "execution_count": 86,
   "id": "7c181e1d",
   "metadata": {},
   "outputs": [
    {
     "name": "stdout",
     "output_type": "stream",
     "text": [
      "LINESTRING (5 8, 2 4, 6 2, 9 2)\n"
     ]
    }
   ],
   "source": [
    "print(linestring)"
   ]
  },
  {
   "cell_type": "code",
   "execution_count": 87,
   "id": "8ce0de94",
   "metadata": {},
   "outputs": [
    {
     "name": "stdout",
     "output_type": "stream",
     "text": [
      "[(5.0, 8.0), (2.0, 4.0), (6.0, 2.0), (9.0, 2.0)]\n"
     ]
    }
   ],
   "source": [
    "print(list(linestring.coords))"
   ]
  },
  {
   "cell_type": "code",
   "execution_count": 88,
   "id": "552654ed",
   "metadata": {},
   "outputs": [
    {
     "name": "stdout",
     "output_type": "stream",
     "text": [
      "(array('d', [5.0, 2.0, 6.0, 9.0]), array('d', [8.0, 4.0, 2.0, 2.0]))\n"
     ]
    }
   ],
   "source": [
    "print(linestring.xy)"
   ]
  },
  {
   "cell_type": "code",
   "execution_count": 89,
   "id": "000bedbd",
   "metadata": {},
   "outputs": [
    {
     "name": "stdout",
     "output_type": "stream",
     "text": [
      "[5.0, 2.0, 6.0, 9.0]\n"
     ]
    }
   ],
   "source": [
    "xcoords = linestring.xy[0]\n",
    "print(list(xcoords))"
   ]
  },
  {
   "cell_type": "code",
   "execution_count": 90,
   "id": "0f48027f",
   "metadata": {},
   "outputs": [
    {
     "name": "stdout",
     "output_type": "stream",
     "text": [
      "Length: 12.47\n"
     ]
    }
   ],
   "source": [
    "print(\"Length: {0:0.2f}\".format(linestring.length))"
   ]
  },
  {
   "cell_type": "code",
   "execution_count": 91,
   "id": "1c02cbf6",
   "metadata": {},
   "outputs": [],
   "source": [
    "polygon = Polygon(points)"
   ]
  },
  {
   "cell_type": "code",
   "execution_count": 92,
   "id": "a8f12a42",
   "metadata": {},
   "outputs": [
    {
     "data": {
      "image/svg+xml": [
       "<svg xmlns=\"http://www.w3.org/2000/svg\" xmlns:xlink=\"http://www.w3.org/1999/xlink\" width=\"100.0\" height=\"100.0\" viewBox=\"1.72 1.72 7.56 6.56\" preserveAspectRatio=\"xMinYMin meet\"><g transform=\"matrix(1,0,0,-1,0,10.0)\"><path fill-rule=\"evenodd\" fill=\"#66cc99\" stroke=\"#555555\" stroke-width=\"0.1512\" opacity=\"0.6\" d=\"M 5.0,8.0 L 2.0,4.0 L 6.0,2.0 L 9.0,2.0 L 5.0,8.0 z\" /></g></svg>"
      ],
      "text/plain": [
       "<shapely.geometry.polygon.Polygon at 0x140290cd0>"
      ]
     },
     "execution_count": 92,
     "metadata": {},
     "output_type": "execute_result"
    }
   ],
   "source": [
    "polygon"
   ]
  },
  {
   "cell_type": "code",
   "execution_count": 94,
   "id": "ac1eb13a",
   "metadata": {},
   "outputs": [
    {
     "name": "stdout",
     "output_type": "stream",
     "text": [
      "Polygon\n"
     ]
    }
   ],
   "source": [
    "print(polygon.geom_type)"
   ]
  },
  {
   "cell_type": "code",
   "execution_count": 97,
   "id": "0a86ca27",
   "metadata": {},
   "outputs": [],
   "source": [
    "shell=[(0,0),(10,0),(10,10),(0,10)]"
   ]
  },
  {
   "cell_type": "code",
   "execution_count": 101,
   "id": "3d6af189",
   "metadata": {},
   "outputs": [],
   "source": [
    "holes = [[(1,1),(9,1),(9,2),(1,2)]]"
   ]
  },
  {
   "cell_type": "code",
   "execution_count": 102,
   "id": "74718ed5",
   "metadata": {},
   "outputs": [],
   "source": [
    "polygon=Polygon(shell=shell, holes=holes)"
   ]
  },
  {
   "cell_type": "code",
   "execution_count": 103,
   "id": "78577f0a",
   "metadata": {},
   "outputs": [
    {
     "data": {
      "image/svg+xml": [
       "<svg xmlns=\"http://www.w3.org/2000/svg\" xmlns:xlink=\"http://www.w3.org/1999/xlink\" width=\"100.0\" height=\"100.0\" viewBox=\"-0.4 -0.4 10.8 10.8\" preserveAspectRatio=\"xMinYMin meet\"><g transform=\"matrix(1,0,0,-1,0,10.0)\"><path fill-rule=\"evenodd\" fill=\"#66cc99\" stroke=\"#555555\" stroke-width=\"0.21600000000000003\" opacity=\"0.6\" d=\"M 0.0,0.0 L 10.0,0.0 L 10.0,10.0 L 0.0,10.0 L 0.0,0.0 z M 1.0,1.0 L 9.0,1.0 L 9.0,2.0 L 1.0,2.0 L 1.0,1.0 z\" /></g></svg>"
      ],
      "text/plain": [
       "<shapely.geometry.polygon.Polygon at 0x1281e1d30>"
      ]
     },
     "execution_count": 103,
     "metadata": {},
     "output_type": "execute_result"
    }
   ],
   "source": [
    "polygon"
   ]
  },
  {
   "cell_type": "code",
   "execution_count": null,
   "id": "7af31d6c",
   "metadata": {},
   "outputs": [],
   "source": []
  }
 ],
 "metadata": {
  "kernelspec": {
   "display_name": "Python 3",
   "language": "python",
   "name": "python3"
  },
  "language_info": {
   "codemirror_mode": {
    "name": "ipython",
    "version": 3
   },
   "file_extension": ".py",
   "mimetype": "text/x-python",
   "name": "python",
   "nbconvert_exporter": "python",
   "pygments_lexer": "ipython3",
   "version": "3.8.10"
  }
 },
 "nbformat": 4,
 "nbformat_minor": 5
}
